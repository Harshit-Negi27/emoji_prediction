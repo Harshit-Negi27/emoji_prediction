{
 "cells": [
  {
   "cell_type": "code",
   "execution_count": 68,
   "id": "5941ea98",
   "metadata": {},
   "outputs": [],
   "source": [
    "import pandas as pd\n",
    "import numpy as np"
   ]
  },
  {
   "cell_type": "code",
   "execution_count": 69,
   "id": "499dee55",
   "metadata": {},
   "outputs": [],
   "source": [
    "# Load the training data\n",
    "train_df = pd.read_csv('Train.csv')"
   ]
  },
  {
   "cell_type": "code",
   "execution_count": 70,
   "id": "f8f1fe07",
   "metadata": {},
   "outputs": [
    {
     "name": "stdout",
     "output_type": "stream",
     "text": [
      " Shape:        Unnamed: 0                                               TEXT  Label\n",
      "0               0  Vacation wasted ! #vacation2017 #photobomb #ti...      0\n",
      "1               1  Oh Wynwood, you’re so funny! : @user #Wynwood ...      1\n",
      "2               2  Been friends since 7th grade. Look at us now w...      2\n",
      "3               3  This is what it looks like when someone loves ...      3\n",
      "4               4  RT @user this white family was invited to a Bl...      3\n",
      "...           ...                                                ...    ...\n",
      "69995       69995  Yes, I call Galina \"my Bubie\" Go follow my bea...      3\n",
      "69996       69996    I SEA you, Seattle @ Ballard Seafood Festival\\n     16\n",
      "69997       69997  If one of my daughters is wearing this and ask...      2\n",
      "69998       69998  Guess who whoop people on THEIR homecoming?! #...      3\n",
      "69999       69999  We Love you Robbie @ Heritage Memorial Cemeter...     14\n",
      "\n",
      "[70000 rows x 3 columns]\n"
     ]
    }
   ],
   "source": [
    "# Shape of training data\n",
    "print(f\" Shape: {train_df}\")"
   ]
  },
  {
   "cell_type": "code",
   "execution_count": 71,
   "id": "6dc20f55",
   "metadata": {},
   "outputs": [
    {
     "name": "stdout",
     "output_type": "stream",
     "text": [
      "   Unnamed: 0                                               TEXT  Label\n",
      "0           0  Vacation wasted ! #vacation2017 #photobomb #ti...      0\n",
      "1           1  Oh Wynwood, you’re so funny! : @user #Wynwood ...      1\n",
      "2           2  Been friends since 7th grade. Look at us now w...      2\n",
      "3           3  This is what it looks like when someone loves ...      3\n",
      "4           4  RT @user this white family was invited to a Bl...      3\n"
     ]
    }
   ],
   "source": [
    "# First 5 rows\n",
    "print(train_df.head())"
   ]
  },
  {
   "cell_type": "code",
   "execution_count": 72,
   "id": "425b9bdd",
   "metadata": {},
   "outputs": [
    {
     "name": "stdout",
     "output_type": "stream",
     "text": [
      "   Unnamed: 0 emoji  Label\n",
      "0           0     😜      0\n",
      "1           1     📸      1\n",
      "2           2     😍      2\n",
      "3           3     😂      3\n",
      "4           4     😉      4\n"
     ]
    }
   ],
   "source": [
    "# Load the mapping data\n",
    "mapping_df = pd.read_csv('Mapping.csv')\n",
    "print(mapping_df.head())"
   ]
  },
  {
   "cell_type": "code",
   "execution_count": 73,
   "id": "d9a0c596",
   "metadata": {},
   "outputs": [],
   "source": [
    "# Rename columns to align for merging\n",
    "mapping_df = mapping_df.rename(columns={'number': 'Label', 'emoticons': 'emoji'})"
   ]
  },
  {
   "cell_type": "code",
   "execution_count": 74,
   "id": "fe66c714",
   "metadata": {},
   "outputs": [
    {
     "name": "stdout",
     "output_type": "stream",
     "text": [
      "   Unnamed: 0                                               TEXT  Label emoji\n",
      "0           0  Vacation wasted ! #vacation2017 #photobomb #ti...      0     😜\n",
      "1           1  Oh Wynwood, you’re so funny! : @user #Wynwood ...      1     📸\n",
      "2           2  Been friends since 7th grade. Look at us now w...      2     😍\n",
      "3           3  This is what it looks like when someone loves ...      3     😂\n",
      "4           4  RT @user this white family was invited to a Bl...      3     😂\n"
     ]
    }
   ],
   "source": [
    "# Merge label → emoji mapping into train_df\n",
    "train_df = train_df.merge(mapping_df[['Label', 'emoji']], on='Label')\n",
    "\n",
    "# Preview of the new dataframe\n",
    "print(train_df.head())"
   ]
  },
  {
   "cell_type": "code",
   "execution_count": 75,
   "id": "b9040b5c",
   "metadata": {},
   "outputs": [
    {
     "data": {
      "text/html": [
       "<div>\n",
       "<style scoped>\n",
       "    .dataframe tbody tr th:only-of-type {\n",
       "        vertical-align: middle;\n",
       "    }\n",
       "\n",
       "    .dataframe tbody tr th {\n",
       "        vertical-align: top;\n",
       "    }\n",
       "\n",
       "    .dataframe thead th {\n",
       "        text-align: right;\n",
       "    }\n",
       "</style>\n",
       "<table border=\"1\" class=\"dataframe\">\n",
       "  <thead>\n",
       "    <tr style=\"text-align: right;\">\n",
       "      <th></th>\n",
       "      <th>TEXT</th>\n",
       "      <th>clean_text</th>\n",
       "    </tr>\n",
       "  </thead>\n",
       "  <tbody>\n",
       "    <tr>\n",
       "      <th>0</th>\n",
       "      <td>Vacation wasted ! #vacation2017 #photobomb #ti...</td>\n",
       "      <td>vacation wasted vacation photobomb tired vacat...</td>\n",
       "    </tr>\n",
       "    <tr>\n",
       "      <th>1</th>\n",
       "      <td>Oh Wynwood, you’re so funny! : @user #Wynwood ...</td>\n",
       "      <td>oh wynwood youre so funny wynwood art itwasam ...</td>\n",
       "    </tr>\n",
       "    <tr>\n",
       "      <th>2</th>\n",
       "      <td>Been friends since 7th grade. Look at us now w...</td>\n",
       "      <td>been friends since th grade look at us now we ...</td>\n",
       "    </tr>\n",
       "    <tr>\n",
       "      <th>3</th>\n",
       "      <td>This is what it looks like when someone loves ...</td>\n",
       "      <td>this is what it looks like when someone loves ...</td>\n",
       "    </tr>\n",
       "    <tr>\n",
       "      <th>4</th>\n",
       "      <td>RT @user this white family was invited to a Bl...</td>\n",
       "      <td>rt this white family was invited to a black ba...</td>\n",
       "    </tr>\n",
       "  </tbody>\n",
       "</table>\n",
       "</div>"
      ],
      "text/plain": [
       "                                                TEXT  \\\n",
       "0  Vacation wasted ! #vacation2017 #photobomb #ti...   \n",
       "1  Oh Wynwood, you’re so funny! : @user #Wynwood ...   \n",
       "2  Been friends since 7th grade. Look at us now w...   \n",
       "3  This is what it looks like when someone loves ...   \n",
       "4  RT @user this white family was invited to a Bl...   \n",
       "\n",
       "                                          clean_text  \n",
       "0  vacation wasted vacation photobomb tired vacat...  \n",
       "1  oh wynwood youre so funny wynwood art itwasam ...  \n",
       "2  been friends since th grade look at us now we ...  \n",
       "3  this is what it looks like when someone loves ...  \n",
       "4  rt this white family was invited to a black ba...  "
      ]
     },
     "execution_count": 75,
     "metadata": {},
     "output_type": "execute_result"
    }
   ],
   "source": [
    "import re\n",
    "\n",
    "# Define a cleaning function\n",
    "def clean_text(text):\n",
    "    text = text.lower()                                # Lowercase\n",
    "    text = re.sub(r'@[\\w_]+', '', text)                # Remove @mentions\n",
    "    text = re.sub(r'#(\\w+)', r'\\1', text)              # Remove # but keep the word\n",
    "    text = re.sub(r'http\\S+', '', text)                # Remove links\n",
    "    text = re.sub(r'[^\\w\\s]', '', text)                # Remove punctuation\n",
    "    text = re.sub(r'\\d+', '', text)                    # Remove numbers\n",
    "    text = re.sub(r'\\s+', ' ', text).strip()           # Remove extra whitespace\n",
    "    return text\n",
    "\n",
    "# Apply cleaning\n",
    "train_df['clean_text'] = train_df['TEXT'].apply(clean_text)\n",
    "\n",
    "# Preview\n",
    "train_df[['TEXT', 'clean_text']].head()\n"
   ]
  },
  {
   "cell_type": "markdown",
   "id": "f6f159e5",
   "metadata": {},
   "source": [
    "### We ran a code which cleaned each tweet in the TEXT column by removing mentions, hashtags, links, punctuation, numbers, and extra spaces, and saves the result in a new column called clean_text. ✅"
   ]
  },
  {
   "cell_type": "code",
   "execution_count": 76,
   "id": "4d6a458d",
   "metadata": {},
   "outputs": [
    {
     "data": {
      "text/html": [
       "<div>\n",
       "<style scoped>\n",
       "    .dataframe tbody tr th:only-of-type {\n",
       "        vertical-align: middle;\n",
       "    }\n",
       "\n",
       "    .dataframe tbody tr th {\n",
       "        vertical-align: top;\n",
       "    }\n",
       "\n",
       "    .dataframe thead th {\n",
       "        text-align: right;\n",
       "    }\n",
       "</style>\n",
       "<table border=\"1\" class=\"dataframe\">\n",
       "  <thead>\n",
       "    <tr style=\"text-align: right;\">\n",
       "      <th></th>\n",
       "      <th>Unnamed: 0</th>\n",
       "      <th>TEXT</th>\n",
       "      <th>Label</th>\n",
       "      <th>emoji</th>\n",
       "      <th>clean_text</th>\n",
       "    </tr>\n",
       "  </thead>\n",
       "  <tbody>\n",
       "    <tr>\n",
       "      <th>0</th>\n",
       "      <td>0</td>\n",
       "      <td>Vacation wasted ! #vacation2017 #photobomb #ti...</td>\n",
       "      <td>0</td>\n",
       "      <td>😜</td>\n",
       "      <td>vacation wasted vacation photobomb tired vacat...</td>\n",
       "    </tr>\n",
       "    <tr>\n",
       "      <th>1</th>\n",
       "      <td>1</td>\n",
       "      <td>Oh Wynwood, you’re so funny! : @user #Wynwood ...</td>\n",
       "      <td>1</td>\n",
       "      <td>📸</td>\n",
       "      <td>oh wynwood youre so funny wynwood art itwasam ...</td>\n",
       "    </tr>\n",
       "    <tr>\n",
       "      <th>2</th>\n",
       "      <td>2</td>\n",
       "      <td>Been friends since 7th grade. Look at us now w...</td>\n",
       "      <td>2</td>\n",
       "      <td>😍</td>\n",
       "      <td>been friends since th grade look at us now we ...</td>\n",
       "    </tr>\n",
       "    <tr>\n",
       "      <th>3</th>\n",
       "      <td>3</td>\n",
       "      <td>This is what it looks like when someone loves ...</td>\n",
       "      <td>3</td>\n",
       "      <td>😂</td>\n",
       "      <td>this is what it looks like when someone loves ...</td>\n",
       "    </tr>\n",
       "    <tr>\n",
       "      <th>4</th>\n",
       "      <td>4</td>\n",
       "      <td>RT @user this white family was invited to a Bl...</td>\n",
       "      <td>3</td>\n",
       "      <td>😂</td>\n",
       "      <td>rt this white family was invited to a black ba...</td>\n",
       "    </tr>\n",
       "  </tbody>\n",
       "</table>\n",
       "</div>"
      ],
      "text/plain": [
       "   Unnamed: 0                                               TEXT  Label emoji  \\\n",
       "0           0  Vacation wasted ! #vacation2017 #photobomb #ti...      0     😜   \n",
       "1           1  Oh Wynwood, you’re so funny! : @user #Wynwood ...      1     📸   \n",
       "2           2  Been friends since 7th grade. Look at us now w...      2     😍   \n",
       "3           3  This is what it looks like when someone loves ...      3     😂   \n",
       "4           4  RT @user this white family was invited to a Bl...      3     😂   \n",
       "\n",
       "                                          clean_text  \n",
       "0  vacation wasted vacation photobomb tired vacat...  \n",
       "1  oh wynwood youre so funny wynwood art itwasam ...  \n",
       "2  been friends since th grade look at us now we ...  \n",
       "3  this is what it looks like when someone loves ...  \n",
       "4  rt this white family was invited to a black ba...  "
      ]
     },
     "execution_count": 76,
     "metadata": {},
     "output_type": "execute_result"
    }
   ],
   "source": [
    "# Clean dataframe \n",
    "train_df.head()"
   ]
  },
  {
   "cell_type": "code",
   "execution_count": 77,
   "id": "b6e3e31f",
   "metadata": {},
   "outputs": [],
   "source": [
    "train_df.drop(columns=['TEXT'], inplace=True)\n"
   ]
  },
  {
   "cell_type": "code",
   "execution_count": 78,
   "id": "2bb6fc66",
   "metadata": {},
   "outputs": [
    {
     "data": {
      "text/html": [
       "<div>\n",
       "<style scoped>\n",
       "    .dataframe tbody tr th:only-of-type {\n",
       "        vertical-align: middle;\n",
       "    }\n",
       "\n",
       "    .dataframe tbody tr th {\n",
       "        vertical-align: top;\n",
       "    }\n",
       "\n",
       "    .dataframe thead th {\n",
       "        text-align: right;\n",
       "    }\n",
       "</style>\n",
       "<table border=\"1\" class=\"dataframe\">\n",
       "  <thead>\n",
       "    <tr style=\"text-align: right;\">\n",
       "      <th></th>\n",
       "      <th>Unnamed: 0</th>\n",
       "      <th>Label</th>\n",
       "      <th>emoji</th>\n",
       "      <th>clean_text</th>\n",
       "    </tr>\n",
       "  </thead>\n",
       "  <tbody>\n",
       "    <tr>\n",
       "      <th>0</th>\n",
       "      <td>0</td>\n",
       "      <td>0</td>\n",
       "      <td>😜</td>\n",
       "      <td>vacation wasted vacation photobomb tired vacat...</td>\n",
       "    </tr>\n",
       "    <tr>\n",
       "      <th>1</th>\n",
       "      <td>1</td>\n",
       "      <td>1</td>\n",
       "      <td>📸</td>\n",
       "      <td>oh wynwood youre so funny wynwood art itwasam ...</td>\n",
       "    </tr>\n",
       "    <tr>\n",
       "      <th>2</th>\n",
       "      <td>2</td>\n",
       "      <td>2</td>\n",
       "      <td>😍</td>\n",
       "      <td>been friends since th grade look at us now we ...</td>\n",
       "    </tr>\n",
       "    <tr>\n",
       "      <th>3</th>\n",
       "      <td>3</td>\n",
       "      <td>3</td>\n",
       "      <td>😂</td>\n",
       "      <td>this is what it looks like when someone loves ...</td>\n",
       "    </tr>\n",
       "    <tr>\n",
       "      <th>4</th>\n",
       "      <td>4</td>\n",
       "      <td>3</td>\n",
       "      <td>😂</td>\n",
       "      <td>rt this white family was invited to a black ba...</td>\n",
       "    </tr>\n",
       "  </tbody>\n",
       "</table>\n",
       "</div>"
      ],
      "text/plain": [
       "   Unnamed: 0  Label emoji                                         clean_text\n",
       "0           0      0     😜  vacation wasted vacation photobomb tired vacat...\n",
       "1           1      1     📸  oh wynwood youre so funny wynwood art itwasam ...\n",
       "2           2      2     😍  been friends since th grade look at us now we ...\n",
       "3           3      3     😂  this is what it looks like when someone loves ...\n",
       "4           4      3     😂  rt this white family was invited to a black ba..."
      ]
     },
     "execution_count": 78,
     "metadata": {},
     "output_type": "execute_result"
    }
   ],
   "source": [
    "train_df.head()"
   ]
  },
  {
   "cell_type": "markdown",
   "id": "3cdb57bc",
   "metadata": {},
   "source": [
    "### Now we'll convert text to numbers. We'll->\n",
    "##### 1)Convert the cleaned text into numeric sequences using Tokenizer\n",
    "\n",
    "##### 2)Pad those sequences so they’re all the same length\n",
    "\n",
    "##### 3)Convert the emoji Label column into categorical one-hot labels for training\n"
   ]
  },
  {
   "cell_type": "markdown",
   "id": "82889fed",
   "metadata": {},
   "source": []
  },
  {
   "cell_type": "markdown",
   "id": "e70ee6cc",
   "metadata": {},
   "source": []
  },
  {
   "cell_type": "code",
   "execution_count": 79,
   "id": "5f7e6606",
   "metadata": {},
   "outputs": [],
   "source": [
    "from tensorflow.keras.preprocessing.text import Tokenizer\n",
    "from tensorflow.keras.preprocessing.sequence import pad_sequences\n",
    "\n",
    "# Set a vocabulary size\n",
    "vocab_size = 5000\n",
    "oov_token = \"<OOV>\"\n",
    "\n",
    "# Create and fit tokenize\n",
    "tokenizer = Tokenizer(num_words = vocab_size, oov_token = oov_token)\n",
    "tokenizer.fit_on_texts(train_df['clean_text'])\n",
    "\n",
    "# Converting text to sequences \n",
    "sequences = tokenizer.texts_to_sequences(train_df['clean_text'])\n",
    "\n",
    "# Pad the sequences to same length \n",
    "max_length = max(len(seq) for seq in sequences)\n",
    "padded_sequence = pad_sequences(sequences, maxlen = max_length, padding = 'post')"
   ]
  },
  {
   "cell_type": "code",
   "execution_count": 80,
   "id": "2975be6a",
   "metadata": {},
   "outputs": [
    {
     "name": "stdout",
     "output_type": "stream",
     "text": [
      "Max length (33) saved to project/max_length.txt\n"
     ]
    }
   ],
   "source": [
    "import os\n",
    "# ... (your existing code that calculates max_length)\n",
    "\n",
    "# Create project directory if it doesn't exist (important!)\n",
    "os.makedirs(\"project\", exist_ok=True)\n",
    "\n",
    "# Save max_length\n",
    "with open(\"project/max_length.txt\", \"w\") as f:\n",
    "    f.write(str(max_length))\n",
    "print(f\"Max length ({max_length}) saved to project/max_length.txt\")"
   ]
  },
  {
   "cell_type": "code",
   "execution_count": 81,
   "id": "8e547b38",
   "metadata": {},
   "outputs": [],
   "source": [
    "embedding_index = {}\n",
    "with open('glove.6B.100d.txt', encoding='utf8') as f:\n",
    "    for line in f:\n",
    "        values = line.split()\n",
    "        word = values[0]\n",
    "        vectors = np.asarray(values[1:], dtype='float32')\n",
    "        embedding_index[word] = vectors\n",
    "\n",
    "embedding_dim = 100\n",
    "embedding_matrix = np.zeros((vocab_size, embedding_dim))\n",
    "for word, i in tokenizer.word_index.items():\n",
    "    if i < vocab_size:\n",
    "        embedding_vector = embedding_index.get(word)\n",
    "        if embedding_vector is not None:\n",
    "            embedding_matrix[i] = embedding_vector\n"
   ]
  },
  {
   "cell_type": "code",
   "execution_count": 82,
   "id": "83caf7cd",
   "metadata": {},
   "outputs": [
    {
     "name": "stdout",
     "output_type": "stream",
     "text": [
      "Number of classes : 20\n"
     ]
    }
   ],
   "source": [
    "# One-Hot Encode the Labels\n",
    "\n",
    "from tensorflow.keras.utils import to_categorical\n",
    "\n",
    "# Check how many unique labels you have \n",
    "num_classes = train_df['Label'].nunique()\n",
    "print(f\"Number of classes : {num_classes}\")\n",
    "\n",
    "one_hot_labels = to_categorical(train_df['Label'], num_classes=num_classes)\n"
   ]
  },
  {
   "cell_type": "code",
   "execution_count": 83,
   "id": "ae71a75b",
   "metadata": {},
   "outputs": [
    {
     "data": {
      "text/html": [
       "<div>\n",
       "<style scoped>\n",
       "    .dataframe tbody tr th:only-of-type {\n",
       "        vertical-align: middle;\n",
       "    }\n",
       "\n",
       "    .dataframe tbody tr th {\n",
       "        vertical-align: top;\n",
       "    }\n",
       "\n",
       "    .dataframe thead th {\n",
       "        text-align: right;\n",
       "    }\n",
       "</style>\n",
       "<table border=\"1\" class=\"dataframe\">\n",
       "  <thead>\n",
       "    <tr style=\"text-align: right;\">\n",
       "      <th></th>\n",
       "      <th>Label</th>\n",
       "      <th>emoji</th>\n",
       "    </tr>\n",
       "  </thead>\n",
       "  <tbody>\n",
       "    <tr>\n",
       "      <th>0</th>\n",
       "      <td>0</td>\n",
       "      <td>😜</td>\n",
       "    </tr>\n",
       "    <tr>\n",
       "      <th>1</th>\n",
       "      <td>1</td>\n",
       "      <td>📸</td>\n",
       "    </tr>\n",
       "    <tr>\n",
       "      <th>2</th>\n",
       "      <td>2</td>\n",
       "      <td>😍</td>\n",
       "    </tr>\n",
       "    <tr>\n",
       "      <th>3</th>\n",
       "      <td>3</td>\n",
       "      <td>😂</td>\n",
       "    </tr>\n",
       "    <tr>\n",
       "      <th>5</th>\n",
       "      <td>4</td>\n",
       "      <td>😉</td>\n",
       "    </tr>\n",
       "    <tr>\n",
       "      <th>6</th>\n",
       "      <td>5</td>\n",
       "      <td>🎄</td>\n",
       "    </tr>\n",
       "    <tr>\n",
       "      <th>7</th>\n",
       "      <td>6</td>\n",
       "      <td>📷</td>\n",
       "    </tr>\n",
       "    <tr>\n",
       "      <th>9</th>\n",
       "      <td>7</td>\n",
       "      <td>🔥</td>\n",
       "    </tr>\n",
       "    <tr>\n",
       "      <th>10</th>\n",
       "      <td>8</td>\n",
       "      <td>😘</td>\n",
       "    </tr>\n",
       "    <tr>\n",
       "      <th>11</th>\n",
       "      <td>9</td>\n",
       "      <td>❤</td>\n",
       "    </tr>\n",
       "    <tr>\n",
       "      <th>12</th>\n",
       "      <td>10</td>\n",
       "      <td>😁</td>\n",
       "    </tr>\n",
       "    <tr>\n",
       "      <th>13</th>\n",
       "      <td>11</td>\n",
       "      <td>🇺🇸</td>\n",
       "    </tr>\n",
       "    <tr>\n",
       "      <th>14</th>\n",
       "      <td>12</td>\n",
       "      <td>☀</td>\n",
       "    </tr>\n",
       "    <tr>\n",
       "      <th>16</th>\n",
       "      <td>13</td>\n",
       "      <td>✨</td>\n",
       "    </tr>\n",
       "    <tr>\n",
       "      <th>25</th>\n",
       "      <td>14</td>\n",
       "      <td>💙</td>\n",
       "    </tr>\n",
       "    <tr>\n",
       "      <th>32</th>\n",
       "      <td>15</td>\n",
       "      <td>💕</td>\n",
       "    </tr>\n",
       "    <tr>\n",
       "      <th>42</th>\n",
       "      <td>16</td>\n",
       "      <td>😎</td>\n",
       "    </tr>\n",
       "    <tr>\n",
       "      <th>44</th>\n",
       "      <td>17</td>\n",
       "      <td>😊</td>\n",
       "    </tr>\n",
       "    <tr>\n",
       "      <th>58</th>\n",
       "      <td>18</td>\n",
       "      <td>💜</td>\n",
       "    </tr>\n",
       "    <tr>\n",
       "      <th>89</th>\n",
       "      <td>19</td>\n",
       "      <td>💯</td>\n",
       "    </tr>\n",
       "  </tbody>\n",
       "</table>\n",
       "</div>"
      ],
      "text/plain": [
       "    Label emoji\n",
       "0       0     😜\n",
       "1       1     📸\n",
       "2       2     😍\n",
       "3       3     😂\n",
       "5       4     😉\n",
       "6       5     🎄\n",
       "7       6     📷\n",
       "9       7     🔥\n",
       "10      8     😘\n",
       "11      9     ❤\n",
       "12     10     😁\n",
       "13     11    🇺🇸\n",
       "14     12     ☀\n",
       "16     13     ✨\n",
       "25     14     💙\n",
       "32     15     💕\n",
       "42     16     😎\n",
       "44     17     😊\n",
       "58     18     💜\n",
       "89     19     💯"
      ]
     },
     "execution_count": 83,
     "metadata": {},
     "output_type": "execute_result"
    }
   ],
   "source": [
    "# This will show you all 20 emoji–label pairs being used in the dataset\n",
    "train_df[['Label', 'emoji']].drop_duplicates().sort_values('Label')\n"
   ]
  },
  {
   "cell_type": "code",
   "execution_count": 84,
   "id": "f6669d96",
   "metadata": {},
   "outputs": [
    {
     "name": "stdout",
     "output_type": "stream",
     "text": [
      "\n",
      "Calculated Class Weights:\n",
      "{0: np.float64(2.24791265253693), 1: np.float64(1.3503086419753085), 2: np.float64(0.4946297343131713), 3: np.float64(0.5115463314820228), 4: np.float64(1.8636847710330138), 5: np.float64(1.770359129994942), 6: np.float64(1.6802688430148824), 7: np.float64(0.8022003208801284), 8: np.float64(1.7570281124497993), 9: np.float64(0.23192631369690545), 10: np.float64(2.0337013364323067), 11: np.float64(1.437962202136401), 12: np.float64(1.8334206390780514), 13: np.float64(1.0769230769230769), 14: np.float64(1.4944491887275833), 15: np.float64(0.9107468123861566), 16: np.float64(1.2358757062146892), 17: np.float64(1.272264631043257), 18: np.float64(2.032520325203252), 19: np.float64(2.005730659025788)}\n"
     ]
    }
   ],
   "source": [
    "from sklearn.utils import class_weight\n",
    "\n",
    "\n",
    "# Calculate class weights\n",
    "# 'balanced' mode automatically computes weights inversely proportional\n",
    "# to class frequencies, giving more weight to minority classes.\n",
    "class_weights = class_weight.compute_class_weight(\n",
    "    class_weight='balanced',\n",
    "    classes=np.unique(train_df['Label']), # Get all unique labels\n",
    "    y=train_df['Label']                   # Pass the actual labels\n",
    ")\n",
    "class_weights_dict = dict(enumerate(class_weights)) # Convert array to dictionary format\n",
    "\n",
    "print(\"\\nCalculated Class Weights:\")\n",
    "print(class_weights_dict)"
   ]
  },
  {
   "cell_type": "code",
   "execution_count": 85,
   "id": "a05c891a",
   "metadata": {},
   "outputs": [
    {
     "name": "stdout",
     "output_type": "stream",
     "text": [
      "\n",
      "Model Summary after architectural changes:\n"
     ]
    },
    {
     "data": {
      "text/html": [
       "<pre style=\"white-space:pre;overflow-x:auto;line-height:normal;font-family:Menlo,'DejaVu Sans Mono',consolas,'Courier New',monospace\"><span style=\"font-weight: bold\">Model: \"sequential_3\"</span>\n",
       "</pre>\n"
      ],
      "text/plain": [
       "\u001b[1mModel: \"sequential_3\"\u001b[0m\n"
      ]
     },
     "metadata": {},
     "output_type": "display_data"
    },
    {
     "data": {
      "text/html": [
       "<pre style=\"white-space:pre;overflow-x:auto;line-height:normal;font-family:Menlo,'DejaVu Sans Mono',consolas,'Courier New',monospace\">┏━━━━━━━━━━━━━━━━━━━━━━━━━━━━━━━━━┳━━━━━━━━━━━━━━━━━━━━━━━━┳━━━━━━━━━━━━━━━┓\n",
       "┃<span style=\"font-weight: bold\"> Layer (type)                    </span>┃<span style=\"font-weight: bold\"> Output Shape           </span>┃<span style=\"font-weight: bold\">       Param # </span>┃\n",
       "┡━━━━━━━━━━━━━━━━━━━━━━━━━━━━━━━━━╇━━━━━━━━━━━━━━━━━━━━━━━━╇━━━━━━━━━━━━━━━┩\n",
       "│ embedding_3 (<span style=\"color: #0087ff; text-decoration-color: #0087ff\">Embedding</span>)         │ (<span style=\"color: #00d7ff; text-decoration-color: #00d7ff\">None</span>, <span style=\"color: #00af00; text-decoration-color: #00af00\">33</span>, <span style=\"color: #00af00; text-decoration-color: #00af00\">100</span>)        │       <span style=\"color: #00af00; text-decoration-color: #00af00\">500,000</span> │\n",
       "├─────────────────────────────────┼────────────────────────┼───────────────┤\n",
       "│ bidirectional_6 (<span style=\"color: #0087ff; text-decoration-color: #0087ff\">Bidirectional</span>) │ (<span style=\"color: #00d7ff; text-decoration-color: #00d7ff\">None</span>, <span style=\"color: #00af00; text-decoration-color: #00af00\">33</span>, <span style=\"color: #00af00; text-decoration-color: #00af00\">256</span>)        │       <span style=\"color: #00af00; text-decoration-color: #00af00\">234,496</span> │\n",
       "├─────────────────────────────────┼────────────────────────┼───────────────┤\n",
       "│ dropout_6 (<span style=\"color: #0087ff; text-decoration-color: #0087ff\">Dropout</span>)             │ (<span style=\"color: #00d7ff; text-decoration-color: #00d7ff\">None</span>, <span style=\"color: #00af00; text-decoration-color: #00af00\">33</span>, <span style=\"color: #00af00; text-decoration-color: #00af00\">256</span>)        │             <span style=\"color: #00af00; text-decoration-color: #00af00\">0</span> │\n",
       "├─────────────────────────────────┼────────────────────────┼───────────────┤\n",
       "│ bidirectional_7 (<span style=\"color: #0087ff; text-decoration-color: #0087ff\">Bidirectional</span>) │ (<span style=\"color: #00d7ff; text-decoration-color: #00d7ff\">None</span>, <span style=\"color: #00af00; text-decoration-color: #00af00\">128</span>)            │       <span style=\"color: #00af00; text-decoration-color: #00af00\">164,352</span> │\n",
       "├─────────────────────────────────┼────────────────────────┼───────────────┤\n",
       "│ dropout_7 (<span style=\"color: #0087ff; text-decoration-color: #0087ff\">Dropout</span>)             │ (<span style=\"color: #00d7ff; text-decoration-color: #00d7ff\">None</span>, <span style=\"color: #00af00; text-decoration-color: #00af00\">128</span>)            │             <span style=\"color: #00af00; text-decoration-color: #00af00\">0</span> │\n",
       "├─────────────────────────────────┼────────────────────────┼───────────────┤\n",
       "│ dense_3 (<span style=\"color: #0087ff; text-decoration-color: #0087ff\">Dense</span>)                 │ (<span style=\"color: #00d7ff; text-decoration-color: #00d7ff\">None</span>, <span style=\"color: #00af00; text-decoration-color: #00af00\">20</span>)             │         <span style=\"color: #00af00; text-decoration-color: #00af00\">2,580</span> │\n",
       "└─────────────────────────────────┴────────────────────────┴───────────────┘\n",
       "</pre>\n"
      ],
      "text/plain": [
       "┏━━━━━━━━━━━━━━━━━━━━━━━━━━━━━━━━━┳━━━━━━━━━━━━━━━━━━━━━━━━┳━━━━━━━━━━━━━━━┓\n",
       "┃\u001b[1m \u001b[0m\u001b[1mLayer (type)                   \u001b[0m\u001b[1m \u001b[0m┃\u001b[1m \u001b[0m\u001b[1mOutput Shape          \u001b[0m\u001b[1m \u001b[0m┃\u001b[1m \u001b[0m\u001b[1m      Param #\u001b[0m\u001b[1m \u001b[0m┃\n",
       "┡━━━━━━━━━━━━━━━━━━━━━━━━━━━━━━━━━╇━━━━━━━━━━━━━━━━━━━━━━━━╇━━━━━━━━━━━━━━━┩\n",
       "│ embedding_3 (\u001b[38;5;33mEmbedding\u001b[0m)         │ (\u001b[38;5;45mNone\u001b[0m, \u001b[38;5;34m33\u001b[0m, \u001b[38;5;34m100\u001b[0m)        │       \u001b[38;5;34m500,000\u001b[0m │\n",
       "├─────────────────────────────────┼────────────────────────┼───────────────┤\n",
       "│ bidirectional_6 (\u001b[38;5;33mBidirectional\u001b[0m) │ (\u001b[38;5;45mNone\u001b[0m, \u001b[38;5;34m33\u001b[0m, \u001b[38;5;34m256\u001b[0m)        │       \u001b[38;5;34m234,496\u001b[0m │\n",
       "├─────────────────────────────────┼────────────────────────┼───────────────┤\n",
       "│ dropout_6 (\u001b[38;5;33mDropout\u001b[0m)             │ (\u001b[38;5;45mNone\u001b[0m, \u001b[38;5;34m33\u001b[0m, \u001b[38;5;34m256\u001b[0m)        │             \u001b[38;5;34m0\u001b[0m │\n",
       "├─────────────────────────────────┼────────────────────────┼───────────────┤\n",
       "│ bidirectional_7 (\u001b[38;5;33mBidirectional\u001b[0m) │ (\u001b[38;5;45mNone\u001b[0m, \u001b[38;5;34m128\u001b[0m)            │       \u001b[38;5;34m164,352\u001b[0m │\n",
       "├─────────────────────────────────┼────────────────────────┼───────────────┤\n",
       "│ dropout_7 (\u001b[38;5;33mDropout\u001b[0m)             │ (\u001b[38;5;45mNone\u001b[0m, \u001b[38;5;34m128\u001b[0m)            │             \u001b[38;5;34m0\u001b[0m │\n",
       "├─────────────────────────────────┼────────────────────────┼───────────────┤\n",
       "│ dense_3 (\u001b[38;5;33mDense\u001b[0m)                 │ (\u001b[38;5;45mNone\u001b[0m, \u001b[38;5;34m20\u001b[0m)             │         \u001b[38;5;34m2,580\u001b[0m │\n",
       "└─────────────────────────────────┴────────────────────────┴───────────────┘\n"
      ]
     },
     "metadata": {},
     "output_type": "display_data"
    },
    {
     "data": {
      "text/html": [
       "<pre style=\"white-space:pre;overflow-x:auto;line-height:normal;font-family:Menlo,'DejaVu Sans Mono',consolas,'Courier New',monospace\"><span style=\"font-weight: bold\"> Total params: </span><span style=\"color: #00af00; text-decoration-color: #00af00\">901,428</span> (3.44 MB)\n",
       "</pre>\n"
      ],
      "text/plain": [
       "\u001b[1m Total params: \u001b[0m\u001b[38;5;34m901,428\u001b[0m (3.44 MB)\n"
      ]
     },
     "metadata": {},
     "output_type": "display_data"
    },
    {
     "data": {
      "text/html": [
       "<pre style=\"white-space:pre;overflow-x:auto;line-height:normal;font-family:Menlo,'DejaVu Sans Mono',consolas,'Courier New',monospace\"><span style=\"font-weight: bold\"> Trainable params: </span><span style=\"color: #00af00; text-decoration-color: #00af00\">401,428</span> (1.53 MB)\n",
       "</pre>\n"
      ],
      "text/plain": [
       "\u001b[1m Trainable params: \u001b[0m\u001b[38;5;34m401,428\u001b[0m (1.53 MB)\n"
      ]
     },
     "metadata": {},
     "output_type": "display_data"
    },
    {
     "data": {
      "text/html": [
       "<pre style=\"white-space:pre;overflow-x:auto;line-height:normal;font-family:Menlo,'DejaVu Sans Mono',consolas,'Courier New',monospace\"><span style=\"font-weight: bold\"> Non-trainable params: </span><span style=\"color: #00af00; text-decoration-color: #00af00\">500,000</span> (1.91 MB)\n",
       "</pre>\n"
      ],
      "text/plain": [
       "\u001b[1m Non-trainable params: \u001b[0m\u001b[38;5;34m500,000\u001b[0m (1.91 MB)\n"
      ]
     },
     "metadata": {},
     "output_type": "display_data"
    }
   ],
   "source": [
    "# ... (your previous imports, data loading, cleaning, tokenizing, padding, etc. remain the same)\n",
    "\n",
    "# Build the LSTM Model\n",
    "from tensorflow.keras.models import Sequential\n",
    "from tensorflow.keras.layers import Embedding, LSTM, Dense, Input, Bidirectional, Dropout # Make sure to import Bidirectional and Dropout\n",
    "\n",
    "model = Sequential(\n",
    "    [\n",
    "        Input(shape=(max_length,)), # Input layer defines the shape of your padded sequences\n",
    "        Embedding(\n",
    "            input_dim=vocab_size,\n",
    "            output_dim=embedding_dim, # This will be 100 if you're using glove.6B.100d.txt\n",
    "            weights=[embedding_matrix], # Initialize with your GloVe embedding matrix\n",
    "            trainable=False # Keep this False for now to leverage pre-trained knowledge\n",
    "        ),\n",
    "        # --- START OF NEW/REVISED ARCHITECTURE ---\n",
    "        Bidirectional(LSTM(128, return_sequences=True)), # First BiLSTM layer. 'return_sequences=True' is needed when stacking LSTMs.\n",
    "        Dropout(0.8),                                   # Dropout to prevent overfitting (can be 0.2 to 0.5)\n",
    "        Bidirectional(LSTM(64)),                        # Second BiLSTM layer. 'return_sequences=False' (default) for the last LSTM before Dense.\n",
    "        Dropout(0.8),                                   # Another Dropout layer\n",
    "        # --- END OF NEW/REVISED ARCHITECTURE ---\n",
    "        Dense(num_classes, activation='softmax')        # Output layer for 20 emoji classes\n",
    "    ]\n",
    ")\n",
    "\n",
    "# Compiling (this part remains the same)\n",
    "model.compile(loss='categorical_crossentropy', optimizer='adam', metrics=['accuracy'])\n",
    "\n",
    "# Summary (this part remains the same)\n",
    "print(\"\\nModel Summary after architectural changes:\")\n",
    "model.summary()\n"
   ]
  },
  {
   "cell_type": "code",
   "execution_count": 86,
   "id": "6df7f034",
   "metadata": {},
   "outputs": [],
   "source": [
    "from tensorflow.keras.callbacks import EarlyStopping\n",
    "\n",
    "early_stopping = EarlyStopping(\n",
    "    monitor='val_loss', # Monitor validation loss\n",
    "    patience=10,        # Number of epochs with no improvement after which training will be stopped\n",
    "    restore_best_weights=True # Restore model weights from the epoch with the best value of the monitored quantity.\n",
    ")"
   ]
  },
  {
   "cell_type": "code",
   "execution_count": 87,
   "id": "22c269bf",
   "metadata": {},
   "outputs": [
    {
     "name": "stdout",
     "output_type": "stream",
     "text": [
      "\n",
      "Training Model with Bidirectional LSTMs and Dropout...\n",
      "Epoch 1/50\n",
      "\u001b[1m1750/1750\u001b[0m \u001b[32m━━━━━━━━━━━━━━━━━━━━\u001b[0m\u001b[37m\u001b[0m \u001b[1m151s\u001b[0m 78ms/step - accuracy: 0.0863 - loss: 2.9345 - val_accuracy: 0.1603 - val_loss: 2.7428\n",
      "Epoch 2/50\n",
      "\u001b[1m1750/1750\u001b[0m \u001b[32m━━━━━━━━━━━━━━━━━━━━\u001b[0m\u001b[37m\u001b[0m \u001b[1m82s\u001b[0m 47ms/step - accuracy: 0.1427 - loss: 2.7559 - val_accuracy: 0.1882 - val_loss: 2.6959\n",
      "Epoch 3/50\n",
      "\u001b[1m1750/1750\u001b[0m \u001b[32m━━━━━━━━━━━━━━━━━━━━\u001b[0m\u001b[37m\u001b[0m \u001b[1m74s\u001b[0m 42ms/step - accuracy: 0.1588 - loss: 2.6840 - val_accuracy: 0.1810 - val_loss: 2.6727\n",
      "Epoch 4/50\n",
      "\u001b[1m1750/1750\u001b[0m \u001b[32m━━━━━━━━━━━━━━━━━━━━\u001b[0m\u001b[37m\u001b[0m \u001b[1m65s\u001b[0m 37ms/step - accuracy: 0.1663 - loss: 2.6564 - val_accuracy: 0.1859 - val_loss: 2.6398\n",
      "Epoch 5/50\n",
      "\u001b[1m1750/1750\u001b[0m \u001b[32m━━━━━━━━━━━━━━━━━━━━\u001b[0m\u001b[37m\u001b[0m \u001b[1m71s\u001b[0m 40ms/step - accuracy: 0.1732 - loss: 2.6227 - val_accuracy: 0.1788 - val_loss: 2.6162\n",
      "Epoch 6/50\n",
      "\u001b[1m1750/1750\u001b[0m \u001b[32m━━━━━━━━━━━━━━━━━━━━\u001b[0m\u001b[37m\u001b[0m \u001b[1m63s\u001b[0m 36ms/step - accuracy: 0.1767 - loss: 2.5937 - val_accuracy: 0.1739 - val_loss: 2.6048\n",
      "Epoch 7/50\n",
      "\u001b[1m1750/1750\u001b[0m \u001b[32m━━━━━━━━━━━━━━━━━━━━\u001b[0m\u001b[37m\u001b[0m \u001b[1m62s\u001b[0m 35ms/step - accuracy: 0.1762 - loss: 2.5731 - val_accuracy: 0.1794 - val_loss: 2.6100\n",
      "Epoch 8/50\n",
      "\u001b[1m1750/1750\u001b[0m \u001b[32m━━━━━━━━━━━━━━━━━━━━\u001b[0m\u001b[37m\u001b[0m \u001b[1m61s\u001b[0m 35ms/step - accuracy: 0.1787 - loss: 2.5472 - val_accuracy: 0.1802 - val_loss: 2.6386\n",
      "Epoch 9/50\n",
      "\u001b[1m1750/1750\u001b[0m \u001b[32m━━━━━━━━━━━━━━━━━━━━\u001b[0m\u001b[37m\u001b[0m \u001b[1m64s\u001b[0m 37ms/step - accuracy: 0.1854 - loss: 2.5043 - val_accuracy: 0.1746 - val_loss: 2.6416\n",
      "Epoch 10/50\n",
      "\u001b[1m1750/1750\u001b[0m \u001b[32m━━━━━━━━━━━━━━━━━━━━\u001b[0m\u001b[37m\u001b[0m \u001b[1m62s\u001b[0m 35ms/step - accuracy: 0.1906 - loss: 2.5036 - val_accuracy: 0.1812 - val_loss: 2.6426\n",
      "Epoch 11/50\n",
      "\u001b[1m1750/1750\u001b[0m \u001b[32m━━━━━━━━━━━━━━━━━━━━\u001b[0m\u001b[37m\u001b[0m \u001b[1m62s\u001b[0m 36ms/step - accuracy: 0.1922 - loss: 2.4593 - val_accuracy: 0.1687 - val_loss: 2.6222\n",
      "Epoch 12/50\n",
      "\u001b[1m1750/1750\u001b[0m \u001b[32m━━━━━━━━━━━━━━━━━━━━\u001b[0m\u001b[37m\u001b[0m \u001b[1m64s\u001b[0m 36ms/step - accuracy: 0.1941 - loss: 2.4173 - val_accuracy: 0.1784 - val_loss: 2.6244\n",
      "Epoch 13/50\n",
      "\u001b[1m1750/1750\u001b[0m \u001b[32m━━━━━━━━━━━━━━━━━━━━\u001b[0m\u001b[37m\u001b[0m \u001b[1m71s\u001b[0m 40ms/step - accuracy: 0.2000 - loss: 2.3915 - val_accuracy: 0.1712 - val_loss: 2.6506\n",
      "Epoch 14/50\n",
      "\u001b[1m1750/1750\u001b[0m \u001b[32m━━━━━━━━━━━━━━━━━━━━\u001b[0m\u001b[37m\u001b[0m \u001b[1m57s\u001b[0m 32ms/step - accuracy: 0.2078 - loss: 2.3370 - val_accuracy: 0.1611 - val_loss: 2.6819\n",
      "Epoch 15/50\n",
      "\u001b[1m1750/1750\u001b[0m \u001b[32m━━━━━━━━━━━━━━━━━━━━\u001b[0m\u001b[37m\u001b[0m \u001b[1m57s\u001b[0m 33ms/step - accuracy: 0.2106 - loss: 2.3168 - val_accuracy: 0.1638 - val_loss: 2.6994\n",
      "Epoch 16/50\n",
      "\u001b[1m1750/1750\u001b[0m \u001b[32m━━━━━━━━━━━━━━━━━━━━\u001b[0m\u001b[37m\u001b[0m \u001b[1m56s\u001b[0m 32ms/step - accuracy: 0.2190 - loss: 2.2955 - val_accuracy: 0.1654 - val_loss: 2.7108\n"
     ]
    }
   ],
   "source": [
    "# Train the Model\n",
    "print(\"\\nTraining Model with Bidirectional LSTMs and Dropout...\")\n",
    "history = model.fit(\n",
    "    padded_sequence,\n",
    "    one_hot_labels,\n",
    "    epochs=50, # Increased epochs from 10. You can try 20-50 based on results.\n",
    "    batch_size=32,\n",
    "    verbose=1,\n",
    "    validation_split=0.2,\n",
    "    class_weight=class_weights_dict, # Ensure this is passed if you have class imbalance\n",
    "    callbacks=[early_stopping]\n",
    ")"
   ]
  },
  {
   "cell_type": "code",
   "execution_count": 58,
   "id": "1e966808",
   "metadata": {},
   "outputs": [
    {
     "data": {
      "image/png": "[encoded data removed]",
      "text/plain": [
       "<Figure size 640x480 with 1 Axes>"
      ]
     },
     "metadata": {},
     "output_type": "display_data"
    },
    {
     "data": {
      "image/png": "[encoded data removed]",
      "text/plain": [
       "<Figure size 640x480 with 1 Axes>"
      ]
     },
     "metadata": {},
     "output_type": "display_data"
    }
   ],
   "source": [
    "# To visually understand training behavior:\n",
    "import matplotlib.pyplot as plt\n",
    "\n",
    "# Plot Accuracy\n",
    "plt.plot(history.history['accuracy'], label='Train Accuracy')\n",
    "plt.plot(history.history['val_accuracy'], label='Val Accuracy')\n",
    "plt.title('Model Accuracy')\n",
    "plt.xlabel('Epoch')\n",
    "plt.ylabel('Accuracy')\n",
    "plt.legend()\n",
    "plt.show()\n",
    "\n",
    "# Plot Loss\n",
    "plt.plot(history.history['loss'], label='Train Loss')\n",
    "plt.plot(history.history['val_loss'], label='Val Loss')\n",
    "plt.title('Model Loss')\n",
    "plt.xlabel('Epoch')\n",
    "plt.ylabel('Loss')\n",
    "plt.legend()\n",
    "plt.show()\n",
    "\n"
   ]
  },
  {
   "cell_type": "code",
   "execution_count": 59,
   "id": "25684c09",
   "metadata": {},
   "outputs": [],
   "source": [
    "# Prediction Time!\n",
    "def predict_emoji(text):\n",
    "    # Clean the input just like training data\n",
    "    cleaned = clean_text(text)\n",
    "\n",
    "    # Convert to sequence using same tokenizer\n",
    "    seq = tokenizer.texts_to_sequences([cleaned])\n",
    "\n",
    "    # Pad to same length as training\n",
    "    padded = pad_sequences(seq, maxlen=max_length, padding='post')\n",
    "\n",
    "    # Predict\n",
    "    prediction = model.predict(padded, verbose=0)    \n",
    "    # Get index of highest probability\n",
    "    pred_label = prediction.argmax(axis=1)[0]\n",
    "\n",
    "    # Get corresponding emoji from mapping_df\n",
    "    emoji = mapping_df[mapping_df['Label'] == pred_label]['emoji'].values[0]\n",
    "\n",
    "    return emoji\n"
   ]
  },
  {
   "cell_type": "code",
   "execution_count": 60,
   "id": "6e43d061",
   "metadata": {},
   "outputs": [
    {
     "data": {
      "text/plain": [
       "'😂'"
      ]
     },
     "execution_count": 60,
     "metadata": {},
     "output_type": "execute_result"
    }
   ],
   "source": [
    "predict_emoji(\" i am tired \")\n",
    "\n",
    "\n"
   ]
  },
  {
   "cell_type": "code",
   "execution_count": 61,
   "id": "9a7248b7",
   "metadata": {},
   "outputs": [
    {
     "data": {
      "text/html": [
       "<div>\n",
       "<style scoped>\n",
       "    .dataframe tbody tr th:only-of-type {\n",
       "        vertical-align: middle;\n",
       "    }\n",
       "\n",
       "    .dataframe tbody tr th {\n",
       "        vertical-align: top;\n",
       "    }\n",
       "\n",
       "    .dataframe thead th {\n",
       "        text-align: right;\n",
       "    }\n",
       "</style>\n",
       "<table border=\"1\" class=\"dataframe\">\n",
       "  <thead>\n",
       "    <tr style=\"text-align: right;\">\n",
       "      <th></th>\n",
       "      <th>Unnamed: 0</th>\n",
       "      <th>emoji</th>\n",
       "      <th>Label</th>\n",
       "    </tr>\n",
       "  </thead>\n",
       "  <tbody>\n",
       "    <tr>\n",
       "      <th>0</th>\n",
       "      <td>0</td>\n",
       "      <td>😜</td>\n",
       "      <td>0</td>\n",
       "    </tr>\n",
       "    <tr>\n",
       "      <th>1</th>\n",
       "      <td>1</td>\n",
       "      <td>📸</td>\n",
       "      <td>1</td>\n",
       "    </tr>\n",
       "    <tr>\n",
       "      <th>2</th>\n",
       "      <td>2</td>\n",
       "      <td>😍</td>\n",
       "      <td>2</td>\n",
       "    </tr>\n",
       "    <tr>\n",
       "      <th>3</th>\n",
       "      <td>3</td>\n",
       "      <td>😂</td>\n",
       "      <td>3</td>\n",
       "    </tr>\n",
       "    <tr>\n",
       "      <th>4</th>\n",
       "      <td>4</td>\n",
       "      <td>😉</td>\n",
       "      <td>4</td>\n",
       "    </tr>\n",
       "  </tbody>\n",
       "</table>\n",
       "</div>"
      ],
      "text/plain": [
       "   Unnamed: 0 emoji  Label\n",
       "0           0     😜      0\n",
       "1           1     📸      1\n",
       "2           2     😍      2\n",
       "3           3     😂      3\n",
       "4           4     😉      4"
      ]
     },
     "execution_count": 61,
     "metadata": {},
     "output_type": "execute_result"
    }
   ],
   "source": [
    "mapping_df.head()"
   ]
  },
  {
   "cell_type": "code",
   "execution_count": 62,
   "id": "754111aa",
   "metadata": {},
   "outputs": [],
   "source": [
    "import os\n",
    "os.makedirs(\"project\", exist_ok=True)\n"
   ]
  },
  {
   "cell_type": "code",
   "execution_count": 63,
   "id": "3bc5a515",
   "metadata": {},
   "outputs": [],
   "source": [
    "# Save trained model\n",
    "model.save(\"project/emoji_model.keras\") \n"
   ]
  },
  {
   "cell_type": "code",
   "execution_count": 64,
   "id": "cdb77eaf",
   "metadata": {},
   "outputs": [],
   "source": [
    "# Save tokenizer\n",
    "import pickle\n",
    "with open(\"project/tokenizer.pkl\", \"wb\") as f:\n",
    "    pickle.dump(tokenizer, f)"
   ]
  },
  {
   "cell_type": "code",
   "execution_count": 65,
   "id": "310598ac",
   "metadata": {},
   "outputs": [],
   "source": [
    "# Save label mapping\n",
    "mapping_df.to_csv(\"project/Mapping.csv\", index=False)"
   ]
  },
  {
   "cell_type": "code",
   "execution_count": 66,
   "id": "81608964",
   "metadata": {},
   "outputs": [
    {
     "name": "stdout",
     "output_type": "stream",
     "text": [
      "Label\n",
      "0      1557\n",
      "1      2592\n",
      "2      7076\n",
      "3      6842\n",
      "4      1878\n",
      "5      1977\n",
      "6      2083\n",
      "7      4363\n",
      "8      1992\n",
      "9     15091\n",
      "10     1721\n",
      "11     2434\n",
      "12     1909\n",
      "13     3250\n",
      "14     2342\n",
      "15     3843\n",
      "16     2832\n",
      "17     2751\n",
      "18     1722\n",
      "19     1745\n",
      "Name: count, dtype: int64\n"
     ]
    }
   ],
   "source": [
    "label_counts = train_df['Label'].value_counts().sort_index()\n",
    "print(label_counts)\n",
    "# And look at the generated bar plot"
   ]
  },
  {
   "cell_type": "code",
   "execution_count": null,
   "id": "d3cf7071",
   "metadata": {},
   "outputs": [],
   "source": []
  },
  {
   "cell_type": "code",
   "execution_count": null,
   "id": "96b6cce2",
   "metadata": {},
   "outputs": [],
   "source": []
  },
  {
   "cell_type": "code",
   "execution_count": null,
   "id": "37e415e8",
   "metadata": {},
   "outputs": [],
   "source": []
  }
 ],
 "metadata": {
  "kernelspec": {
   "display_name": ".venv",
   "language": "python",
   "name": "python3"
  },
  "language_info": {
   "codemirror_mode": {
    "name": "ipython",
    "version": 3
   },
   "file_extension": ".py",
   "mimetype": "text/x-python",
   "name": "python",
   "nbconvert_exporter": "python",
   "pygments_lexer": "ipython3",
   "version": "3.10.11"
  }
 },
 "nbformat": 4,
 "nbformat_minor": 5
}
